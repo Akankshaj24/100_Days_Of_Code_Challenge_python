{
  "nbformat": 4,
  "nbformat_minor": 0,
  "metadata": {
    "colab": {
      "provenance": []
    },
    "kernelspec": {
      "name": "python3",
      "display_name": "Python 3"
    },
    "language_info": {
      "name": "python"
    }
  },
  "cells": [
    {
      "cell_type": "code",
      "execution_count": 1,
      "metadata": {
        "colab": {
          "base_uri": "https://localhost:8080/"
        },
        "id": "7eE5fIZUijHu",
        "outputId": "c22c7eec-417c-42eb-e078-23f404051f6b"
      },
      "outputs": [
        {
          "name": "stdout",
          "output_type": "stream",
          "text": [
            "Welcome to the PyPassword Generator!\n",
            "How many letters would you like in your password?\n",
            "7\n",
            "How many symbols would you like?\n",
            "5\n",
            "How many numbers would you like?\n",
            "2\n"
          ]
        }
      ],
      "source": [
        "#Password Generator Project\n",
        "import random\n",
        "letters = ['a', 'b', 'c', 'd', 'e', 'f', 'g', 'h', 'i', 'j', 'k', 'l', 'm', 'n', 'o', 'p', 'q', 'r', 's', 't', 'u', 'v', 'w', 'x', 'y', 'z', 'A', 'B', 'C', 'D', 'E', 'F', 'G', 'H', 'I', 'J', 'K', 'L', 'M', 'N', 'O', 'P', 'Q', 'R', 'S', 'T', 'U', 'V', 'W', 'X', 'Y', 'Z']\n",
        "numbers = ['0', '1', '2', '3', '4', '5', '6', '7', '8', '9']\n",
        "symbols = ['!', '#', '$', '%', '&', '(', ')', '*', '+']\n",
        "\n",
        "print(\"Welcome to the PyPassword Generator!\")\n",
        "letterss= int(input(\"How many letters would you like in your password?\\n\"))\n",
        "symbolss = int(input(f\"How many symbols would you like?\\n\"))\n",
        "numberss = int(input(f\"How many numbers would you like?\\n\"))"
      ]
    },
    {
      "cell_type": "code",
      "source": [
        "#Eazy Level - Order not randomised:\n",
        "#e.g. 4 letter, 2 symbol, 2 number = JduE&!91\n",
        "str=''\n",
        "for i in range (letterss):\n",
        "  letter=random.choice(letters)\n",
        "  str+=letter\n",
        "for i in range (symbolss):\n",
        "  symbol=random.choice(symbols)\n",
        "  str+=symbol\n",
        "for i in range (numberss):\n",
        "  number=random.choice(numbers)\n",
        "  str+=number\n",
        "\n",
        "print(str)"
      ],
      "metadata": {
        "colab": {
          "base_uri": "https://localhost:8080/"
        },
        "id": "qPw-rSG_jEkX",
        "outputId": "c11fa577-92bf-497f-858a-13122e7f5569"
      },
      "execution_count": 4,
      "outputs": [
        {
          "output_type": "stream",
          "name": "stdout",
          "text": [
            "ivhnzpR&(%%$01\n"
          ]
        }
      ]
    },
    {
      "cell_type": "code",
      "source": [
        "#Hard Level - Order of characters randomised:\n",
        "#e.g. 4 letter, 2 symbol, 2 number = g^2jk8&P\n",
        "\n",
        "password=[]\n",
        "for i in range (letterss):\n",
        "  letter=random.choice(letters)\n",
        "  password+=letter\n",
        "for i in range (symbolss):\n",
        "  symbol=random.choice(symbols)\n",
        "  password+=symbol\n",
        "for i in range (numberss):\n",
        "  number=random.choice(numbers)\n",
        "  password+=number\n",
        "\n",
        "# print(password)\n",
        "random.shuffle(password)\n",
        "# print(password)\n",
        "\n",
        "str=''\n",
        "for char in password:\n",
        "  str+=char\n",
        "\n",
        "print(str)"
      ],
      "metadata": {
        "colab": {
          "base_uri": "https://localhost:8080/"
        },
        "id": "xnOduhqJjPQm",
        "outputId": "2eeeecf3-cf80-4a6b-eb21-de82911098d3"
      },
      "execution_count": 5,
      "outputs": [
        {
          "output_type": "stream",
          "name": "stdout",
          "text": [
            "+EM%3pD&L%(8ql\n"
          ]
        }
      ]
    },
    {
      "cell_type": "code",
      "source": [],
      "metadata": {
        "id": "9QAJE8IontRu"
      },
      "execution_count": 3,
      "outputs": []
    }
  ]
}