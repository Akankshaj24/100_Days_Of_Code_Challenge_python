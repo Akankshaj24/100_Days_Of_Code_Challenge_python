{
  "nbformat": 4,
  "nbformat_minor": 0,
  "metadata": {
    "colab": {
      "provenance": []
    },
    "kernelspec": {
      "name": "python3",
      "display_name": "Python 3"
    },
    "language_info": {
      "name": "python"
    }
  },
  "cells": [
    {
      "cell_type": "code",
      "execution_count": 12,
      "metadata": {
        "id": "uraWULwUpTiB"
      },
      "outputs": [],
      "source": [
        "from Day16_menu import Menu\n",
        "from Day16_coffee_maker import CoffeeMaker\n",
        "from Day16_money_machine import MoneyMachine"
      ]
    },
    {
      "cell_type": "code",
      "source": [
        "money_machine = MoneyMachine()\n",
        "coffee_maker = CoffeeMaker()\n",
        "menu = Menu()"
      ],
      "metadata": {
        "id": "AmiAM7Bmpwl6"
      },
      "execution_count": 13,
      "outputs": []
    },
    {
      "cell_type": "code",
      "source": [
        "coffee_maker.report()\n",
        "money_machine.report()"
      ],
      "metadata": {
        "colab": {
          "base_uri": "https://localhost:8080/"
        },
        "id": "7DJmIZ7qp9fu",
        "outputId": "b249be28-df97-4ec2-ee3d-13c1a803e2b0"
      },
      "execution_count": 14,
      "outputs": [
        {
          "output_type": "stream",
          "name": "stdout",
          "text": [
            "Water: 300ml\n",
            "Milk: 200ml\n",
            "Coffee: 100g\n",
            "Money: $0\n"
          ]
        }
      ]
    },
    {
      "cell_type": "code",
      "source": [
        "is_on = True\n",
        "while is_on:\n",
        "  options = menu.get_items()\n",
        "  choice = input(f\"What would you like {options}\")\n",
        "  if choice == \"off\":\n",
        "    is_on = False\n",
        "  elif choice == \"report\":\n",
        "    coffee_maker.report()\n",
        "    money_machine.report()\n",
        "  else:\n",
        "    drink = menu.find_drink(choice)\n",
        "    if coffee_maker.is_resource_sufficient(drink) and money_machine.make_payment(drink.cost):\n",
        "      coffee_maker.make_coffee(drink)\n"
      ],
      "metadata": {
        "colab": {
          "base_uri": "https://localhost:8080/"
        },
        "id": "3xVZ_KGmqBaQ",
        "outputId": "cfba0542-f72c-42d8-c046-8ffe801ed04b"
      },
      "execution_count": 16,
      "outputs": [
        {
          "name": "stdout",
          "output_type": "stream",
          "text": [
            "What would you like latte/espresso/cappuccino/espresso\n",
            "Please insert coins.\n",
            "How many quarters?: 12\n",
            "How many dimes?: 7\n",
            "How many nickles?: 6\n",
            "How many pennies?: 3\n",
            "Here is $2.53 in change.\n",
            "Here is your espresso ☕️. Enjoy!\n",
            "What would you like latte/espresso/cappuccino/cappuccino\n",
            "Please insert coins.\n",
            "How many quarters?: 9\n",
            "How many dimes?: 8\n",
            "How many nickles?: 13\n",
            "How many pennies?: 6\n",
            "Here is $0.76 in change.\n",
            "Here is your cappuccino ☕️. Enjoy!\n",
            "What would you like latte/espresso/cappuccino/latte\n",
            "Sorry there is not enough water.\n",
            "What would you like latte/espresso/cappuccino/off\n"
          ]
        }
      ]
    },
    {
      "cell_type": "code",
      "source": [],
      "metadata": {
        "id": "n9Z_8Z0CrBR6"
      },
      "execution_count": null,
      "outputs": []
    }
  ]
}