{
  "nbformat": 4,
  "nbformat_minor": 0,
  "metadata": {
    "colab": {
      "provenance": []
    },
    "kernelspec": {
      "name": "python3",
      "display_name": "Python 3"
    },
    "language_info": {
      "name": "python"
    }
  },
  "cells": [
    {
      "cell_type": "code",
      "execution_count": 5,
      "metadata": {
        "id": "S047fpt22PLR"
      },
      "outputs": [],
      "source": [
        "# ESCAPING THE MAZE"
      ]
    },
    {
      "cell_type": "markdown",
      "source": [
        "Lost in a maze\n",
        "Reeborg was exploring a dark maze and the battery in its flashlight ran out.\n",
        "\n",
        "Write a program using an if/elif/else statement so Reeborg can find the exit. The secret is to have Reeborg follow along the right edge of the maze, turning right if it can, going straight ahead if it can’t turn right, or turning left as a last resort.\n",
        "\n",
        "What you need to know\n",
        "The functions move() and turn_left().\n",
        "Either the test front_is_clear() or wall_in_front(), right_is_clear() or wall_on_right(), and at_goal().\n",
        "How to use a while loop and if/elif/else statements.\n",
        "It might be useful to know how to use the negation of a test (not in Python).\n",
        "Difficulty level"
      ],
      "metadata": {
        "id": "9GEBvvHx28ow"
      }
    },
    {
      "cell_type": "code",
      "source": [
        "def turn_right():\n",
        "    turn_left()\n",
        "    turn_left()\n",
        "    turn_left()\n",
        "\n",
        "# to make wall on the right side of the robot\n",
        "while front_is_clear():\n",
        "        move()\n",
        "turn_left()\n",
        "while not at_goal():\n",
        "    if right_is_clear():\n",
        "        turn_right()\n",
        "        move()\n",
        "    elif front_is_clear():\n",
        "        move()\n",
        "    else:\n",
        "        turn_left()"
      ],
      "metadata": {
        "id": "Vi0eZ5G-2f9l"
      },
      "execution_count": 2,
      "outputs": []
    },
    {
      "cell_type": "markdown",
      "source": [],
      "metadata": {
        "id": "gwpJ5zu229t9"
      }
    }
  ]
}