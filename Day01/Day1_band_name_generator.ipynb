{
  "nbformat": 4,
  "nbformat_minor": 0,
  "metadata": {
    "colab": {
      "provenance": []
    },
    "kernelspec": {
      "name": "python3",
      "display_name": "Python 3"
    },
    "language_info": {
      "name": "python"
    }
  },
  "cells": [
    {
      "cell_type": "code",
      "execution_count": null,
      "metadata": {
        "colab": {
          "base_uri": "https://localhost:8080/"
        },
        "id": "cAI4dY_cgRuz",
        "outputId": "0a0bbc50-f60a-441c-dde3-d7cbc84eeefc"
      },
      "outputs": [
        {
          "output_type": "stream",
          "name": "stdout",
          "text": [
            "Welcome to the band name generator\n"
          ]
        }
      ],
      "source": [
        "#1. Create a greeting for your program.\n",
        "print(\"Welcome to the band name generator\")"
      ]
    },
    {
      "cell_type": "code",
      "source": [
        "#2. Ask the user for the city that they grew up in.\n",
        "city = input('Which city did you grow up in?\\n')"
      ],
      "metadata": {
        "colab": {
          "base_uri": "https://localhost:8080/"
        },
        "id": "CowVQTQ6gxGQ",
        "outputId": "56868d2f-4499-4a71-fa9f-b84847d5f4c7"
      },
      "execution_count": null,
      "outputs": [
        {
          "name": "stdout",
          "output_type": "stream",
          "text": [
            "Which city did you grow up in?\n",
            "pune\n"
          ]
        }
      ]
    },
    {
      "cell_type": "code",
      "source": [
        "#3. Ask the user for the name of a pet.\n",
        "pet = input('What is the name of a pet?\\n')"
      ],
      "metadata": {
        "colab": {
          "base_uri": "https://localhost:8080/"
        },
        "id": "oo7d6MtEg4uQ",
        "outputId": "4aae71b8-a45d-4aee-d063-591f8bf2890b"
      },
      "execution_count": null,
      "outputs": [
        {
          "name": "stdout",
          "output_type": "stream",
          "text": [
            "What is the name of a pet?\n",
            "Sheru\n"
          ]
        }
      ]
    },
    {
      "cell_type": "code",
      "source": [
        "#4. Combine the name of their city and pet and show them their band name.\n",
        "print('Your band name could be '+city+' '+pet)"
      ],
      "metadata": {
        "colab": {
          "base_uri": "https://localhost:8080/"
        },
        "id": "2kt50U5Pg7-k",
        "outputId": "f0f84fa7-c19b-437a-f1da-1828ccf41561"
      },
      "execution_count": null,
      "outputs": [
        {
          "output_type": "stream",
          "name": "stdout",
          "text": [
            "Your band name could be pune Sheru\n"
          ]
        }
      ]
    },
    {
      "cell_type": "code",
      "source": [
        "#5. Make sure the input cursor shows on a new line:"
      ],
      "metadata": {
        "id": "b1IimE69g_o7"
      },
      "execution_count": null,
      "outputs": []
    },
    {
      "cell_type": "code",
      "source": [],
      "metadata": {
        "id": "RHXn6yAWhA3x"
      },
      "execution_count": null,
      "outputs": []
    }
  ]
}