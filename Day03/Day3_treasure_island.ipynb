{
  "nbformat": 4,
  "nbformat_minor": 0,
  "metadata": {
    "colab": {
      "provenance": []
    },
    "kernelspec": {
      "name": "python3",
      "display_name": "Python 3"
    },
    "language_info": {
      "name": "python"
    }
  },
  "cells": [
    {
      "cell_type": "code",
      "execution_count": 2,
      "metadata": {
        "colab": {
          "base_uri": "https://localhost:8080/"
        },
        "id": "_5MEnxOX9u3O",
        "outputId": "0a513736-57ab-46d4-e609-32354ea078eb"
      },
      "outputs": [
        {
          "output_type": "stream",
          "name": "stdout",
          "text": [
            "Welcome to Treasure Island\n",
            "Your mission is to find Treasure\n"
          ]
        }
      ],
      "source": [
        "print('Welcome to Treasure Island')\n",
        "print('Your mission is to find Treasure')"
      ]
    },
    {
      "cell_type": "code",
      "source": [
        "print('You\\'re at a cross road.')\n",
        "choice1 = input('Where do you want to go? Type \"left\" or \"right\" \\n').lower()\n",
        "if choice1==\"left\":\n",
        "  print('You\\'ve come to a lake. There is an island in the middle of the lake.')\n",
        "  choice2=input('Type \"wait\" to wait for a boat. Type \"swim\" to swim across. \\n').lower()\n",
        "  if choice2 == \"wait\":\n",
        "    print('You arrive at the island unharmed. There is a house with 3 doors. One red, one yellow and one blue.')\n",
        "    choice3=input('Which colour do you choose? \\n').lower()\n",
        "    if choice3 == \"red\":\n",
        "      print(\"It's a room full of fire. Game Over.\")\n",
        "    elif choice3 == \"yellow\":\n",
        "      print(\"You found the treasure! You Win!\")\n",
        "    elif choice3 == \"blue\":\n",
        "      print(\"You enter a room of beasts. Game Over.\")\n",
        "    else:\n",
        "      print(\"You chose a door that doesn't exist. Game Over.\")\n",
        "  else:\n",
        "    print(\"You get attacked by an angry trout. Game Over.\")\n",
        "else:\n",
        "  print(\"You fell into a hole. Game Over.\")"
      ],
      "metadata": {
        "colab": {
          "base_uri": "https://localhost:8080/"
        },
        "id": "icPOR_8i-J-x",
        "outputId": "4eef3920-572a-4ba9-a799-c104ee952de5"
      },
      "execution_count": 3,
      "outputs": [
        {
          "output_type": "stream",
          "name": "stdout",
          "text": [
            "You're at a cross road.\n",
            "Where do you want to go? Type \"left\" or \"right\" \n",
            "Left\n",
            "You've come to a lake. There is an island in the middle of the lake.\n",
            "Type \"wait\" to wait for a boat. Type \"swim\" to swim across. \n",
            "Wait\n",
            "You arrive at the island unharmed. There is a house with 3 doors. One red, one yellow and one blue.\n",
            "Which colour do you choose? \n",
            "Red\n",
            "It's a room full of fire. Game Over.\n"
          ]
        }
      ]
    },
    {
      "cell_type": "code",
      "source": [],
      "metadata": {
        "id": "SlVbSY6eAE-1"
      },
      "execution_count": 3,
      "outputs": []
    }
  ]
}