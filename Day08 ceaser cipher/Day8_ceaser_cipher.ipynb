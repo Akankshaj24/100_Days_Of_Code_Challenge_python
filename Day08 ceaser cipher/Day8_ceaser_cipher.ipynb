{
  "nbformat": 4,
  "nbformat_minor": 0,
  "metadata": {
    "colab": {
      "provenance": []
    },
    "kernelspec": {
      "name": "python3",
      "display_name": "Python 3"
    },
    "language_info": {
      "name": "python"
    }
  },
  "cells": [
    {
      "cell_type": "code",
      "execution_count": 1,
      "metadata": {
        "colab": {
          "base_uri": "https://localhost:8080/"
        },
        "id": "YTtOEYt7Ympz",
        "outputId": "2194ed59-93f4-49b4-dcc2-92a133314f0f"
      },
      "outputs": [
        {
          "output_type": "stream",
          "name": "stdout",
          "text": [
            "Welcome to ceaser cipher!!!\n"
          ]
        }
      ],
      "source": [
        "print('Welcome to ceaser cipher!!!')"
      ]
    },
    {
      "cell_type": "code",
      "source": [
        "letters=['a','b','c','d','e','f','g','h','i','j','k','l','m','n','o','p','q','r','s','t','u','v','w','x','y','z']\n",
        "end_of_the_loop = True\n",
        "while(end_of_the_loop):\n",
        "    direction = input(\"Type 'Encode' to encode and 'Decode' to decode\\n\").lower()\n",
        "    text = input(f\"Type the text to {direction}\\n\")\n",
        "    shift = int(input('By how many numbers you wants to shift\\n'))\n",
        "    end_text=''\n",
        "    if direction=='decode':\n",
        "        shift*= (-1)\n",
        "    for i in text:\n",
        "        position = letters.index(i)\n",
        "        new_position = (position+shift)%26\n",
        "        end_text+=letters[new_position]\n",
        "    print(f'The {direction}d text is: {end_text}')\n",
        "\n",
        "    cont =input('Do you wants to encode/decode text? (type yes to continue)\\n').lower()\n",
        "    if cont!='yes':\n",
        "        end_of_the_loop=False\n",
        "        print('GoodBye')"
      ],
      "metadata": {
        "colab": {
          "base_uri": "https://localhost:8080/"
        },
        "id": "BqXDf-pqYzGo",
        "outputId": "3ba8f382-ff93-4a83-9a9a-bc0a01f7a74b"
      },
      "execution_count": 4,
      "outputs": [
        {
          "output_type": "stream",
          "name": "stdout",
          "text": [
            "Type 'Encode' to encode and 'Decode' to decode\n",
            "Encode\n",
            "Type the text to encode\n",
            "hello\n",
            "By how many numbers you wants to shift\n",
            "5\n",
            "The encoded text is: mjqqt\n",
            "Do you wants to encode/decode text? (type yes to continue)\n",
            "yes\n",
            "Type 'Encode' to encode and 'Decode' to decode\n",
            "Decode\n",
            "Type the text to decode\n",
            "mjqqt\n",
            "By how many numbers you wants to shift\n",
            "5\n",
            "The decoded text is: hello\n",
            "Do you wants to encode/decode text? (type yes to continue)\n",
            "no\n",
            "GoodBye\n"
          ]
        }
      ]
    },
    {
      "cell_type": "code",
      "source": [],
      "metadata": {
        "id": "XHY9tKfvZoXQ"
      },
      "execution_count": null,
      "outputs": []
    }
  ]
}