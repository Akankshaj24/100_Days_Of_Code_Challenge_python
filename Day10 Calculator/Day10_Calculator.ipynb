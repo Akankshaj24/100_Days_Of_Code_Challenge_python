{
  "nbformat": 4,
  "nbformat_minor": 0,
  "metadata": {
    "colab": {
      "provenance": []
    },
    "kernelspec": {
      "name": "python3",
      "display_name": "Python 3"
    },
    "language_info": {
      "name": "python"
    }
  },
  "cells": [
    {
      "cell_type": "code",
      "execution_count": 14,
      "metadata": {
        "colab": {
          "base_uri": "https://localhost:8080/"
        },
        "id": "xK3bOYeorL3d",
        "outputId": "f95b6072-5304-4c62-f435-4ea237db4aa8"
      },
      "outputs": [
        {
          "output_type": "stream",
          "name": "stdout",
          "text": [
            "***********************************\n",
            "\n",
            "\n",
            "\tWELCOME TO CALCULATOR\n",
            "\t  ENJOY CALCULATIONS\n",
            "\n",
            "\n",
            "***********************************\n",
            "Enter the first number : 426.786\n",
            "Select the operator from (+,-,*,/) : +\n",
            "Enter the second number : 32.635\n",
            "The answer is : 459.42\n",
            "Do you wants to continue calculations\n",
            "(Type 'y' for yes, 'n' for new calculations, exit otherwise) : y\n",
            "Select the operator from (+,-,*,/) : *\n",
            "Enter the second number : 6.3\n",
            "The answer is : 2894.35\n",
            "Do you wants to continue calculations\n",
            "(Type 'y' for yes, 'n' for new calculations, exit otherwise) : y\n",
            "Select the operator from (+,-,*,/) : /\n",
            "Enter the second number : 98.3\n",
            "The answer is : 29.44\n",
            "Do you wants to continue calculations\n",
            "(Type 'y' for yes, 'n' for new calculations, exit otherwise) : y\n",
            "Select the operator from (+,-,*,/) : -\n",
            "Enter the second number : 9\n",
            "The answer is : 20.44\n",
            "Do you wants to continue calculations\n",
            "(Type 'y' for yes, 'n' for new calculations, exit otherwise) : n\n",
            "***********************************\n",
            "\n",
            "\n",
            "\tWELCOME TO CALCULATOR\n",
            "\t  ENJOY CALCULATIONS\n",
            "\n",
            "\n",
            "***********************************\n",
            "Enter the first number : 56\n",
            "Select the operator from (+,-,*,/) : *\n",
            "Enter the second number : 656.3\n",
            "The answer is : 36752.8\n",
            "Do you wants to continue calculations\n",
            "(Type 'y' for yes, 'n' for new calculations, exit otherwise) : exit\n",
            "\n",
            "After all calculations the final answer is : 36752.8\n",
            "\n",
            "****** THANK YOU ******\n"
          ]
        }
      ],
      "source": [
        "def add(n1,n2):\n",
        "    return n1+n2\n",
        "def subtract(n1,n2):\n",
        "    return n1-n2\n",
        "def multiply(n1,n2):\n",
        "    return n1*n2\n",
        "def divide(n1,n2):\n",
        "    return n1/n2\n",
        "\n",
        "dict={\n",
        "    '+':add,\n",
        "    '-':subtract,\n",
        "    '*':multiply,\n",
        "    '/':divide,\n",
        "}\n",
        "\n",
        "def calculator():\n",
        "    print('*'*35)\n",
        "    print('\\n\\n\\tWELCOME TO CALCULATOR')\n",
        "    print('\\t  ENJOY CALCULATIONS\\n\\n')\n",
        "    print('*'*35)\n",
        "    num1 = float(input('Enter the first number : '))\n",
        "\n",
        "    end_of_calculations=False\n",
        "    while not end_of_calculations:\n",
        "        operation = input('Select the operator from (+,-,*,/) : ')\n",
        "        num2 = float(input('Enter the second number : '))\n",
        "        function =dict[operation]\n",
        "        answer = round(function(num1,num2),2)\n",
        "        print(f'The answer is : {answer}')\n",
        "        cont = input(\"Do you wants to continue calculations\\n(Type 'y' for yes, 'n' for new calculations, exit otherwise) : \").lower()\n",
        "        if cont =='y':\n",
        "            num1=answer\n",
        "        elif cont == 'n':\n",
        "            calculator()\n",
        "            end_of_calculations=True\n",
        "        else:\n",
        "            print(f'\\nAfter all calculations the final answer is : {answer}')\n",
        "            print('\\n****** THANK YOU ******')\n",
        "            end_of_calculations=True\n",
        "calculator()"
      ]
    },
    {
      "cell_type": "code",
      "source": [],
      "metadata": {
        "id": "sWlSB-aqr3Sw"
      },
      "execution_count": null,
      "outputs": []
    }
  ]
}