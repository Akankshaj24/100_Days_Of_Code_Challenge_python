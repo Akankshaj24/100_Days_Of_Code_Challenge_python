{
  "nbformat": 4,
  "nbformat_minor": 0,
  "metadata": {
    "colab": {
      "provenance": []
    },
    "kernelspec": {
      "name": "python3",
      "display_name": "Python 3"
    },
    "language_info": {
      "name": "python"
    }
  },
  "cells": [
    {
      "cell_type": "code",
      "execution_count": 1,
      "metadata": {
        "id": "xVizgTwiDox1"
      },
      "outputs": [],
      "source": [
        "#If the bill was $150.00, split between 5 people, with 12% tip.\n",
        "#Each person should pay (150.00 / 5) * 1.12 = 33.6\n",
        "#Format the result to 2 decimal places = 33.60\n",
        "\n",
        "#Tip: There are 2 ways to round a number. You might have to do some Googling to solve this.💪\n",
        "\n",
        "#Write your code below this line 👇"
      ]
    },
    {
      "cell_type": "code",
      "source": [
        "print(\"Welcome to the tip calculator\")"
      ],
      "metadata": {
        "colab": {
          "base_uri": "https://localhost:8080/"
        },
        "id": "ApG6EBCoS9Y9",
        "outputId": "879d8e28-b1ae-4af4-88ff-34357e591a9e"
      },
      "execution_count": 2,
      "outputs": [
        {
          "output_type": "stream",
          "name": "stdout",
          "text": [
            "Welcome to the tip calculator\n"
          ]
        }
      ]
    },
    {
      "cell_type": "code",
      "source": [
        "Total_Bill = float(input(\"What was the total Bill? $\"))"
      ],
      "metadata": {
        "colab": {
          "base_uri": "https://localhost:8080/"
        },
        "id": "_2jECPNcTWOA",
        "outputId": "fbd8d113-3e96-415b-bd9b-a767f34402bc"
      },
      "execution_count": 3,
      "outputs": [
        {
          "name": "stdout",
          "output_type": "stream",
          "text": [
            "What was the total Bill? $150\n"
          ]
        }
      ]
    },
    {
      "cell_type": "code",
      "source": [
        "tip = float(input(\"What percentage tip you like to give ?\"))"
      ],
      "metadata": {
        "colab": {
          "base_uri": "https://localhost:8080/"
        },
        "id": "wzvClsKCTky8",
        "outputId": "86aaa02c-6893-42c3-b7c7-cbb414ddeb4c"
      },
      "execution_count": 4,
      "outputs": [
        {
          "name": "stdout",
          "output_type": "stream",
          "text": [
            "What percentage tip you like to give ?12\n"
          ]
        }
      ]
    },
    {
      "cell_type": "code",
      "source": [
        "People = int(input(\"How many people to split the bill?\"))"
      ],
      "metadata": {
        "colab": {
          "base_uri": "https://localhost:8080/"
        },
        "id": "i3VjsMmvT2gk",
        "outputId": "99615d44-79f3-4070-ca2f-c050940d28c8"
      },
      "execution_count": 5,
      "outputs": [
        {
          "name": "stdout",
          "output_type": "stream",
          "text": [
            "How many people to split the bill?5\n"
          ]
        }
      ]
    },
    {
      "cell_type": "code",
      "source": [
        "Splited_Bill=(Total_Bill/People)*(tip/100+1)\n",
        "Splited_Bill=round(Splited_Bill,2)\n",
        "print(f\"Each person would pay : {Splited_Bill}\")"
      ],
      "metadata": {
        "colab": {
          "base_uri": "https://localhost:8080/"
        },
        "id": "yNKujTvBUGv-",
        "outputId": "c83c7da9-1f89-48ef-af55-2dfaf7fcc4ae"
      },
      "execution_count": 6,
      "outputs": [
        {
          "output_type": "stream",
          "name": "stdout",
          "text": [
            "Each person would pay : 33.6\n"
          ]
        }
      ]
    },
    {
      "cell_type": "code",
      "source": [],
      "metadata": {
        "id": "9KExXFRJUxaw"
      },
      "execution_count": 6,
      "outputs": []
    }
  ]
}