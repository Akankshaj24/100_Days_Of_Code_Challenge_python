{
  "nbformat": 4,
  "nbformat_minor": 0,
  "metadata": {
    "colab": {
      "provenance": []
    },
    "kernelspec": {
      "name": "python3",
      "display_name": "Python 3"
    },
    "language_info": {
      "name": "python"
    }
  },
  "cells": [
    {
      "cell_type": "code",
      "execution_count": 11,
      "metadata": {
        "colab": {
          "base_uri": "https://localhost:8080/"
        },
        "id": "k0D3bi89XjFj",
        "outputId": "1027d6ed-8f56-4efe-e15d-ba63ac67c650"
      },
      "outputs": [
        {
          "output_type": "stream",
          "name": "stdout",
          "text": [
            "WELCOME TO THE SECRET AUCTION PROGRAM !\n",
            "Enter your name?\n",
            "radha\n",
            "What is your bid price\n",
            "$87\n",
            "Is there anyone wants to Bid(Type 'yes' for yes and 'no' for no\n",
            ")yes\n",
            "Enter your name?\n",
            "om\n",
            "What is your bid price\n",
            "$46\n",
            "Is there anyone wants to Bid(Type 'yes' for yes and 'no' for no\n",
            ")yes\n",
            "Enter your name?\n",
            "shravan\n",
            "What is your bid price\n",
            "$105\n",
            "Is there anyone wants to Bid(Type 'yes' for yes and 'no' for no\n",
            ")yes\n",
            "Enter your name?\n",
            "akanksha\n",
            "What is your bid price\n",
            "$97\n",
            "Is there anyone wants to Bid(Type 'yes' for yes and 'no' for no\n",
            ")yes\n",
            "Enter your name?\n",
            "aditi\n",
            "What is your bid price\n",
            "$88\n",
            "Is there anyone wants to Bid(Type 'yes' for yes and 'no' for no\n",
            ")no\n",
            "aditi is winner with 88 bid\n"
          ]
        }
      ],
      "source": [
        "import os\n",
        "print('WELCOME TO THE SECRET AUCTION PROGRAM !')\n",
        "auction = {}\n",
        "end_of_the_member=True\n",
        "while(end_of_the_member):\n",
        "    name =input('Enter your name?\\n')\n",
        "    bid= int(input('What is your bid price\\n$'))\n",
        "    auction[name]=bid\n",
        "    continue1=input(\"Is there anyone wants to Bid(Type 'yes' for yes and 'no' for no\\n)\").lower()\n",
        "    if continue1=='yes':\n",
        "        os.system('clear')\n",
        "    else:\n",
        "        bid=0\n",
        "        for key in auction:\n",
        "            if auction[key]>bid:\n",
        "                winner = key\n",
        "                winnerbid = auction[key]\n",
        "                end_of_the_member=False\n",
        "print(f\"{winner} is winner with {winnerbid} bid\")\n"
      ]
    },
    {
      "cell_type": "code",
      "source": [],
      "metadata": {
        "id": "0-tr1R-zXs89"
      },
      "execution_count": null,
      "outputs": []
    }
  ]
}