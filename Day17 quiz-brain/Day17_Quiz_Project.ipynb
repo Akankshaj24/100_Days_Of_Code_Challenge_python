{
  "nbformat": 4,
  "nbformat_minor": 0,
  "metadata": {
    "colab": {
      "provenance": []
    },
    "kernelspec": {
      "name": "python3",
      "display_name": "Python 3"
    },
    "language_info": {
      "name": "python"
    }
  },
  "cells": [
    {
      "cell_type": "code",
      "execution_count": 1,
      "metadata": {
        "colab": {
          "base_uri": "https://localhost:8080/"
        },
        "id": "ua6bDqcPPXHQ",
        "outputId": "3fc41e54-172e-4960-e245-abae8539765c"
      },
      "outputs": [
        {
          "output_type": "stream",
          "name": "stdout",
          "text": [
            "Q.1: A slug's blood is green. (True/False): true\n",
            "You got it right!!\n",
            "The correct answer was: True\n",
            "Your current score is :1/1 \n",
            "\n",
            "\n",
            "Q.2: The loudest animal is the African Elephant. (True/False): false\n",
            "You got it right!!\n",
            "The correct answer was: False\n",
            "Your current score is :2/2 \n",
            "\n",
            "\n",
            "Q.3: Approximately one quarter of human bones are in the feet. (True/False): false\n",
            "That's wrong answer\n",
            "The correct answer was: True\n",
            "Your current score is :2/3 \n",
            "\n",
            "\n",
            "Q.4: The total surface area of a human lungs is the size of a football pitch. (True/False): false\n",
            "That's wrong answer\n",
            "The correct answer was: True\n",
            "Your current score is :2/4 \n",
            "\n",
            "\n",
            "Q.5: In West Virginia, USA, if you accidentally hit an animal with your car, you are free to take it home to eat. (True/False): true\n",
            "You got it right!!\n",
            "The correct answer was: True\n",
            "Your current score is :3/5 \n",
            "\n",
            "\n",
            "Q.6: In London, UK, if you happen to die in the House of Parliament, you are entitled to a state funeral. (True/False): true\n",
            "That's wrong answer\n",
            "The correct answer was: False\n",
            "Your current score is :3/6 \n",
            "\n",
            "\n",
            "Q.7: It is illegal to pee in the Ocean in Portugal. (True/False): false\n",
            "That's wrong answer\n",
            "The correct answer was: True\n",
            "Your current score is :3/7 \n",
            "\n",
            "\n",
            "Q.8: You can lead a cow down stairs but not up stairs. (True/False): true\n",
            "That's wrong answer\n",
            "The correct answer was: False\n",
            "Your current score is :3/8 \n",
            "\n",
            "\n",
            "Q.9: Google was originally called 'Backrub'. (True/False): true\n",
            "You got it right!!\n",
            "The correct answer was: True\n",
            "Your current score is :4/9 \n",
            "\n",
            "\n",
            "Q.10: Buzz Aldrin's mother's maiden name was 'Moon'. (True/False): true\n",
            "You got it right!!\n",
            "The correct answer was: True\n",
            "Your current score is :5/10 \n",
            "\n",
            "\n",
            "Q.11: No piece of square dry paper can be folded in half more than 7 times. (True/False): false\n",
            "You got it right!!\n",
            "The correct answer was: False\n",
            "Your current score is :6/11 \n",
            "\n",
            "\n",
            "Q.12: A few ounces of chocolate can to kill a small dog. (True/False): true\n",
            "You got it right!!\n",
            "The correct answer was: True\n",
            "Your current score is :7/12 \n",
            "\n",
            "\n",
            "You've completed the Quiz\n",
            "Your final score was : 7/12\n"
          ]
        }
      ],
      "source": [
        "from day17_question_model import Question\n",
        "from day17_data import question_data\n",
        "from day17_quiz_brain import QuizBrain\n",
        "\n",
        "question_bank = []\n",
        "\n",
        "for que in question_data:\n",
        "    question_text = que[\"text\"]\n",
        "    answer_text = que[\"answer\"]\n",
        "    queObj = Question(question_text, answer_text)\n",
        "    question_bank.append(queObj)\n",
        "\n",
        "quiz = QuizBrain(question_bank)\n",
        "\n",
        "while quiz.still_has_question():\n",
        "    quiz.next_question()\n",
        "\n",
        "print(\"You've completed the Quiz\")\n",
        "print(f\"Your final score was : {quiz.score}/{quiz.question_number}\")"
      ]
    },
    {
      "cell_type": "code",
      "source": [],
      "metadata": {
        "id": "uDOiE2ULQRho"
      },
      "execution_count": null,
      "outputs": []
    }
  ]
}