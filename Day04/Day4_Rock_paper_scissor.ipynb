{
  "nbformat": 4,
  "nbformat_minor": 0,
  "metadata": {
    "colab": {
      "provenance": []
    },
    "kernelspec": {
      "name": "python3",
      "display_name": "Python 3"
    },
    "language_info": {
      "name": "python"
    }
  },
  "cells": [
    {
      "cell_type": "code",
      "execution_count": 11,
      "metadata": {
        "colab": {
          "base_uri": "https://localhost:8080/"
        },
        "id": "pym5BoeGPF2a",
        "outputId": "e02e2250-f4ad-4f8a-c967-ab781d3f036d"
      },
      "outputs": [
        {
          "output_type": "stream",
          "name": "stdout",
          "text": [
            "What do you choose?\n",
            "Type 0 for rock, 1 for paper or 2 for scissor\n",
            "1\n",
            "Computer wins\n",
            "Computer choose scissor\n",
            "You choose paper\n"
          ]
        }
      ],
      "source": [
        "game=['rock','paper','scissor']\n",
        "print('What do you choose?')\n",
        "userInput = int(input('Type 0 for rock, 1 for paper or 2 for scissor\\n'))\n",
        "import random\n",
        "compInput = random.randint(0,2)\n",
        "\n",
        "if userInput==compInput:\n",
        "  print(f'Game tie You both choose {game[userInput]}')\n",
        "elif userInput == 0:\n",
        "  if compInput == 1:\n",
        "    print(f'Computer wins')\n",
        "    print(f'Computer choose {game[compInput]}')\n",
        "    print(f'You choose {game[userInput]}')\n",
        "  else:\n",
        "    print(f'You win')\n",
        "    print(f'Computer choose {game[compInput]}')\n",
        "    print(f'You choose {game[userInput]}')\n",
        "elif userInput == 1:\n",
        "  if compInput == 2:\n",
        "    print(f'Computer wins')\n",
        "    print(f'Computer choose {game[compInput]}')\n",
        "    print(f'You choose {game[userInput]}')\n",
        "  else:\n",
        "    print(f'You win')\n",
        "    print(f'Computer choose {game[compInput]}')\n",
        "    print(f'You choose {game[userInput]}')\n",
        "elif userInput==2:\n",
        "  if compInput == 0:\n",
        "    print(f'Computer wins')\n",
        "    print(f'Computer choose {game[compInput]}')\n",
        "    print(f'You choose {game[userInput]}')\n",
        "  else:\n",
        "    print(f'You win')\n",
        "    print(f'Computer choose {game[compInput]}')\n",
        "    print(f'You choose {game[userInput]}')\n",
        "else:\n",
        "  print('You typed a wrong number you lose')"
      ]
    },
    {
      "cell_type": "code",
      "source": [],
      "metadata": {
        "id": "WdlagGLBRfQS"
      },
      "execution_count": null,
      "outputs": []
    }
  ]
}