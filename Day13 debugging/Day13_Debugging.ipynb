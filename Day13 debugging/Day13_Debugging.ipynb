{
  "nbformat": 4,
  "nbformat_minor": 0,
  "metadata": {
    "colab": {
      "provenance": []
    },
    "kernelspec": {
      "name": "python3",
      "display_name": "Python 3"
    },
    "language_info": {
      "name": "python"
    }
  },
  "cells": [
    {
      "cell_type": "code",
      "execution_count": 2,
      "metadata": {
        "colab": {
          "base_uri": "https://localhost:8080/"
        },
        "id": "w0a6tgcn7qBa",
        "outputId": "d7063966-c415-41c1-ad30-6368d280670d"
      },
      "outputs": [
        {
          "output_type": "stream",
          "name": "stdout",
          "text": [
            "You got it\n"
          ]
        }
      ],
      "source": [
        "############DEBUGGING#####################\n",
        "\n",
        "# Describe Problem\n",
        "# You have to print the statement 'You got it'\n",
        "\n",
        "def my_function():\n",
        "# for i in range(1, 20):\n",
        "  for i in range(1, 21):\n",
        "    if i == 20:\n",
        "      print(\"You got it\")\n",
        "my_function()"
      ]
    },
    {
      "cell_type": "code",
      "source": [
        "# Reproduce the Bug\n",
        "\n",
        "from random import randint\n",
        "dice_imgs = [\"❶\", \"❷\", \"❸\", \"❹\", \"❺\", \"❻\"]\n",
        "# dice_num = randint(1,6)   --> Error was: index out of range\n",
        "dice_num = randint(0, 5)\n",
        "print(dice_imgs[dice_num])"
      ],
      "metadata": {
        "colab": {
          "base_uri": "https://localhost:8080/"
        },
        "id": "RQni8mUS8FcS",
        "outputId": "c5279852-ef69-4978-9328-cfbc8ffae431"
      },
      "execution_count": 3,
      "outputs": [
        {
          "output_type": "stream",
          "name": "stdout",
          "text": [
            "❺\n"
          ]
        }
      ]
    },
    {
      "cell_type": "code",
      "source": [
        "# Play Computer\n",
        "year = int(input(\"What's your year of birth?\"))\n",
        "if year > 1980 and year < 1994:\n",
        "  print(\"You are a millenial.\")\n",
        "# elif year > 1994:  --> For 1994 it is printing nothing\n",
        "elif year >= 1994:\n",
        "  print(\"You are a Gen Z.\")"
      ],
      "metadata": {
        "colab": {
          "base_uri": "https://localhost:8080/"
        },
        "id": "fNJSWBvw8dB3",
        "outputId": "4fd4e9e6-64a2-4659-8c90-8c72d3901803"
      },
      "execution_count": 6,
      "outputs": [
        {
          "output_type": "stream",
          "name": "stdout",
          "text": [
            "What's your year of birth?1994\n",
            "You are a Gen Z.\n"
          ]
        }
      ]
    },
    {
      "cell_type": "code",
      "source": [
        "# Fix the Errors\n",
        "age = int(input(\"How old are you?\"))\n",
        "if age > 18:\n",
        "  # print(\"You can drive at age {age}.\")  -->  it is not formatted string so it is not considering age as variable\n",
        "  print(f\"You can drive at age {age}.\")"
      ],
      "metadata": {
        "colab": {
          "base_uri": "https://localhost:8080/"
        },
        "id": "HSZ3GoB98ruf",
        "outputId": "1291abf8-f35e-445e-fcb2-3619edf347a6"
      },
      "execution_count": 7,
      "outputs": [
        {
          "output_type": "stream",
          "name": "stdout",
          "text": [
            "How old are you?21\n",
            "You can drive at age 21.\n"
          ]
        }
      ]
    },
    {
      "cell_type": "code",
      "source": [
        "#Print is Your Friend\n",
        "pages = 0\n",
        "word_per_page = 0\n",
        "pages = int(input(\"Number of pages: \"))\n",
        "# word_per_page == int(input(\"Number of words per page: \"))  -->  Use of logical operator in place of assignment operator\n",
        "word_per_page = int(input(\"Number of words per page: \"))\n",
        "total_words = pages * word_per_page\n",
        "print(f\"pages = {pages}\")\n",
        "print(f\"word_per_page = {word_per_page}\")\n",
        "print(total_words)"
      ],
      "metadata": {
        "colab": {
          "base_uri": "https://localhost:8080/"
        },
        "id": "C1dfrPGW9Tv8",
        "outputId": "e7afdbc3-cd53-4b72-a780-fd788b5c8812"
      },
      "execution_count": 8,
      "outputs": [
        {
          "output_type": "stream",
          "name": "stdout",
          "text": [
            "Number of pages: 20\n",
            "Number of words per page: 65\n",
            "pages = 20\n",
            "word_per_page = 65\n",
            "1300\n"
          ]
        }
      ]
    },
    {
      "cell_type": "code",
      "source": [
        "#Use a Debugger\n",
        "def mutate(a_list):\n",
        "    b_list = []\n",
        "    for item in a_list:\n",
        "        new_item = item * 2\n",
        "#   b_list.append(new_item)   -->  Becuse of less indentation it is appending only last element\n",
        "        b_list.append(new_item)\n",
        "\n",
        "    print(b_list)\n",
        "\n",
        "mutate([1, 2, 3, 5, 8, 13])"
      ],
      "metadata": {
        "colab": {
          "base_uri": "https://localhost:8080/"
        },
        "id": "9g-kcBj19jXB",
        "outputId": "7c28e072-33c7-469d-c095-04375a5cc407"
      },
      "execution_count": 9,
      "outputs": [
        {
          "output_type": "stream",
          "name": "stdout",
          "text": [
            "[2, 4, 6, 10, 16, 26]\n"
          ]
        }
      ]
    },
    {
      "cell_type": "code",
      "source": [],
      "metadata": {
        "id": "-ctJTGdd95C5"
      },
      "execution_count": null,
      "outputs": []
    }
  ]
}