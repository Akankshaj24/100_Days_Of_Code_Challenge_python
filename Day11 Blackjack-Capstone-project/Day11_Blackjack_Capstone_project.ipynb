{
  "nbformat": 4,
  "nbformat_minor": 0,
  "metadata": {
    "colab": {
      "provenance": []
    },
    "kernelspec": {
      "name": "python3",
      "display_name": "Python 3"
    },
    "language_info": {
      "name": "python"
    }
  },
  "cells": [
    {
      "cell_type": "code",
      "execution_count": 4,
      "metadata": {
        "colab": {
          "base_uri": "https://localhost:8080/"
        },
        "id": "pZucPOZg-KC7",
        "outputId": "874dd685-9cd6-4de6-fb3d-07dd2fcd5838"
      },
      "outputs": [
        {
          "output_type": "stream",
          "name": "stdout",
          "text": [
            "Do you want to play a game of Blackjack? Type 'y' or 'n' : y\n",
            "Your cards are : [10, 10], Current score : 20\n",
            "Dealers first card is : 4\n",
            "User wants to select card (Type 'y' for yes and 'n' for pass !) : n\n",
            "Your final hand : [10, 10], Score : 20\n",
            "Dealer final hand : [4, 7, 1, 4, 6], Score : 22\n",
            "Opponent went over, you win\n",
            "Do you want to play a game of Blackjack? Type 'y' or 'n' : y\n",
            "Your cards are : [2, 6], Current score : 8\n",
            "Dealers first card is : 10\n",
            "User wants to select card (Type 'y' for yes and 'n' for pass !) : y\n",
            "Your cards are : [2, 6, 3], Current score : 11\n",
            "Dealers first card is : 10\n",
            "User wants to select card (Type 'y' for yes and 'n' for pass !) : y\n",
            "Your cards are : [2, 6, 3, 1], Current score : 12\n",
            "Dealers first card is : 10\n",
            "User wants to select card (Type 'y' for yes and 'n' for pass !) : y\n",
            "Your cards are : [2, 6, 3, 1, 2], Current score : 14\n",
            "Dealers first card is : 10\n",
            "User wants to select card (Type 'y' for yes and 'n' for pass !) : y\n",
            "Your cards are : [2, 6, 3, 1, 2, 7], Current score : 21\n",
            "Dealers first card is : 10\n",
            "User wants to select card (Type 'y' for yes and 'n' for pass !) : n\n",
            "Your final hand : [2, 6, 3, 1, 2, 7], Score : 21\n",
            "Dealer final hand : [10, 10], Score : 20\n",
            "You win\n",
            "Do you want to play a game of Blackjack? Type 'y' or 'n' : n\n",
            "***** THANK YOU ******\n"
          ]
        }
      ],
      "source": [
        "import random\n",
        "def choice ():\n",
        "    \"\"\"returns a random card from a deck\"\"\"\n",
        "    cards=[11,2,3,4,5,6,7,8,9,10,10,10,10]\n",
        "    card = random.choice(cards)\n",
        "    return card\n",
        "\n",
        "def calculate_score(cards):\n",
        "    \"\"\"calculates the sum of cards\"\"\"\n",
        "    if sum(cards)==21 and len(cards)==2:\n",
        "        return 0\n",
        "    if 11 in cards and sum(cards)>21:\n",
        "        cards.remove(11)\n",
        "        cards.append(1)\n",
        "    return sum(cards)\n",
        "\n",
        "def compare(users_score,dealers_score):\n",
        "    if users_score == dealers_score:\n",
        "        return \"Draw\"\n",
        "    elif dealers_score== 0:\n",
        "        return \"Lose, Opponent has blackjack!\"\n",
        "    elif users_score == 0:\n",
        "        return \"Win with Blackjack\"\n",
        "    elif users_score>21:\n",
        "        return \"You went over, you lose\"\n",
        "    elif dealers_score>21:\n",
        "        return \"Opponent went over, you win\"\n",
        "    elif users_score > dealers_score:\n",
        "        return \"You win\"\n",
        "    else:\n",
        "        return \"You lose\"\n",
        "\n",
        "def play_game():\n",
        "    users_cards=[]\n",
        "    dealer_cards=[]\n",
        "    is_game_over=False\n",
        "\n",
        "    for i in range (2):\n",
        "        users_cards.append(choice())\n",
        "        dealer_cards.append(choice())\n",
        "\n",
        "    while not is_game_over:\n",
        "\n",
        "        users_score = calculate_score(users_cards)\n",
        "        dealers_score = calculate_score(dealer_cards)\n",
        "\n",
        "        print(f\"Your cards are : {users_cards}, Current score : {users_score}\")\n",
        "        print(f\"Dealers first card is : {dealer_cards[0]}\")\n",
        "\n",
        "        if users_score==0 or dealers_score==0 or users_score>21:\n",
        "            is_game_over=True\n",
        "        else:\n",
        "            select = input(\"User wants to select card (Type 'y' for yes and 'n' for pass !) : \")\n",
        "            if select=='y':\n",
        "                users_cards.append(choice())\n",
        "            else:\n",
        "                is_game_over=True\n",
        "\n",
        "    while dealers_score !=0 and dealers_score<17:\n",
        "        dealer_cards.append(choice())\n",
        "        dealers_score = calculate_score(dealer_cards)\n",
        "\n",
        "    print(f\"Your final hand : {users_cards}, Score : {users_score}\")\n",
        "    print(f\"Dealer final hand : {dealer_cards}, Score : {dealers_score}\")\n",
        "    print(compare(users_score,dealers_score))\n",
        "\n",
        "while input(\"Do you want to play a game of Blackjack? Type 'y' or 'n' : \")=='y':\n",
        "    play_game()\n",
        "\n",
        "print('***** THANK YOU ******')"
      ]
    },
    {
      "cell_type": "code",
      "source": [],
      "metadata": {
        "id": "km--J1oy-Nhq"
      },
      "execution_count": null,
      "outputs": []
    }
  ]
}